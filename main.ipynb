{
 "cells": [
  {
   "cell_type": "markdown",
   "metadata": {},
   "source": [
    "<h1 align=\"center\">Convotutional Neural Network (CNN) for simpson Image Recognition</h1>"
   ]
  },
  {
   "cell_type": "markdown",
   "metadata": {},
   "source": [
    "<hr>\n",
    "<h3>Show Samples in the Unknown Folder</h3>\n",
    "<pre>\n",
    "images\n",
    "    0: cat\n",
    "    1: dog\n",
    "    u: (unknown)\n",
    "</pre>"
   ]
  },
  {
   "cell_type": "code",
   "execution_count": 14,
   "metadata": {},
   "outputs": [
    {
     "name": "stdout",
     "output_type": "stream",
     "text": [
      "✔ bart_simpson → class 0: train= 40, unknown=110\n",
      "✔ homer_simpson → class 1: train= 40, unknown=110\n",
      "✔ lisa_simpson → class 2: train= 40, unknown=110\n",
      "✔ marge_simpson → class 3: train= 40, unknown=110\n",
      "✅ 全部圖片重新命名與分類完成！\n"
     ]
    }
   ],
   "source": [
    "import random\n",
    "import shutil\n",
    "from pathlib import Path\n",
    "\n",
    "# 原始 simpson 資料夾\n",
    "SRC_DIR = Path(\"simpson\")\n",
    "DEST_DIR = Path(\"images\")\n",
    "UNKNOWN_DIR = DEST_DIR / \"u\"\n",
    "\n",
    "# 設定參數\n",
    "total_images_per_class = 50\n",
    "unknown_images_per_class = 10\n",
    "train_images_per_class = total_images_per_class - unknown_images_per_class\n",
    "image_extensions = [\".jpg\", \".jpeg\", \".png\", \".bmp\"]\n",
    "\n",
    "# 建立資料夾\n",
    "DEST_DIR.mkdir(exist_ok=True)\n",
    "UNKNOWN_DIR.mkdir(parents=True, exist_ok=True)\n",
    "\n",
    "# 開始處理每個類別資料夾\n",
    "for idx, class_folder in enumerate(sorted(SRC_DIR.iterdir())):\n",
    "    if not class_folder.is_dir():\n",
    "        continue\n",
    "\n",
    "    image_files = [\n",
    "        f for f in class_folder.iterdir() if f.suffix.lower() in image_extensions\n",
    "    ]\n",
    "\n",
    "    if len(image_files) < total_images_per_class:\n",
    "        print(f\"⚠ {class_folder.name} 圖片不足 {total_images_per_class} 張，跳過\")\n",
    "        continue\n",
    "\n",
    "    random.shuffle(image_files)\n",
    "    selected_images = image_files[:total_images_per_class]\n",
    "    unknown_images = selected_images[:unknown_images_per_class]\n",
    "    train_images = selected_images[unknown_images_per_class:]\n",
    "\n",
    "    # 建立類別資料夾（以數字命名）\n",
    "    class_dir = DEST_DIR / str(idx)\n",
    "    class_dir.mkdir(parents=True, exist_ok=True)\n",
    "\n",
    "    # 複製訓練圖片並重新命名為：class_name_000.jpg、001.jpg...\n",
    "    for i, img in enumerate(train_images):\n",
    "        new_name = f\"{class_folder.name}_{i:03d}.jpg\"\n",
    "        shutil.copy(img, class_dir / new_name)\n",
    "\n",
    "    # 複製 unknown 圖片 → 命名為 00.jpg, 01.jpg, ..., 10.jpg, 11.jpg...\n",
    "    for u_idx, img in enumerate(unknown_images):\n",
    "        number = idx * 10 + u_idx\n",
    "        new_name = f\"{class_folder.name}_{number:02d}.jpg\"\n",
    "        shutil.copy(img, UNKNOWN_DIR / new_name)\n",
    "\n",
    "    print(\n",
    "        f\"✔ {class_folder.name} → class {idx}: train= {len(train_images)}, unknown=1{len(unknown_images)}\"\n",
    "    )\n",
    "\n",
    "print(\"✅ 全部圖片重新命名與分類完成！\")"
   ]
  },
  {
   "cell_type": "code",
   "execution_count": 1,
   "metadata": {},
   "outputs": [
    {
     "name": "stdout",
     "output_type": "stream",
     "text": [
      "images/u\\0.jpg\n",
      "images/u\\00.jpg\n",
      "images/u\\1.jpg\n",
      "images/u\\11.jpg\n"
     ]
    }
   ],
   "source": [
    "# Show Samples in the Unknown Folder\n",
    "\n",
    "import numpy as np\n",
    "import cv2\n",
    "import glob\n",
    "\n",
    "def show_sample(img):\n",
    "    # cv2.imshow 使用的 RGB 數值是 (0.0,1.0)\n",
    "    img = img / 255.0\n",
    "    # resize 影像至 (256,256) 方便觀看\n",
    "    img256 = cv2.resize(img, (256, 256))\n",
    "    # 顯示影像\n",
    "    cv2.namedWindow('Sample')\n",
    "    cv2.imshow('Sample', img256)\n",
    "    # 按下 SPACEBAR 關閉\n",
    "    while (True):\n",
    "        c = cv2.waitKey(500)\n",
    "        if (c == ord(' ')): \n",
    "            break\n",
    "    cv2.destroyAllWindows()\n",
    "    return\n",
    "\n",
    "ilst = glob.glob('images/u/*.*')\n",
    "\n",
    "for f in ilst:\n",
    "    print(f)\n",
    "    img = cv2.imread(f)\n",
    "    show_sample(img)\n"
   ]
  },
  {
   "cell_type": "markdown",
   "metadata": {},
   "source": [
    "<hr>\n",
    "<h3>Load all training samples of cat (0) & dog (1)</h3>\n",
    "<p>image_size = <strong style=\"color:red\">64</strong></p>\n",
    "<pre>\n",
    "images: all images (64x64x3)\n",
    "labels: all labels (2)\n",
    "</pre>"
   ]
  },
  {
   "cell_type": "code",
   "execution_count": 2,
   "metadata": {},
   "outputs": [
    {
     "name": "stdout",
     "output_type": "stream",
     "text": [
      "Samples are ready. (n=20)\n"
     ]
    }
   ],
   "source": [
    "# Load all training samples of cat (0) & dog (1)\n",
    "\n",
    "import numpy as np\n",
    "import cv2\n",
    "import glob\n",
    "\n",
    "# Normalized size of sample images\n",
    "image_size = 64\n",
    "# Class index (labels): 0 and 1; (0 for egret & 1 for flamingo)\n",
    "class_num = 2\n",
    "class_name = [ 0, 1 ]\n",
    "\n",
    "# 計算樣本數\n",
    "count = 0\n",
    "for c in class_name:\n",
    "    clst = glob.glob('images/%d/*.*' % c)\n",
    "    for f in clst:\n",
    "        count = count + 1\n",
    "sample_n = count\n",
    "\n",
    "images = np.zeros([sample_n,image_size,image_size,3])\n",
    "labels = np.zeros([sample_n,class_num])\n",
    "\n",
    "count = 0\n",
    "for c in class_name:\n",
    "    clst = glob.glob('images/%d/*.*' % c)\n",
    "    for f in clst:\n",
    "        # rint(f)\n",
    "        img = cv2.imread(f)\n",
    "        img = cv2.resize(img,(image_size,image_size))\n",
    "        # show_sample(img)\n",
    "        images[count,:,:,:] = img[:,:,:]\n",
    "        labels[count,:] = np.zeros([class_num])\n",
    "        labels[count,c] = 1\n",
    "        count = count + 1\n",
    "\n",
    "# print(images)\n",
    "# print(labels)\n",
    "\n",
    "print('Samples are ready. (n=%d)' % (sample_n))\n"
   ]
  },
  {
   "cell_type": "markdown",
   "metadata": {},
   "source": [
    "<hr>\n",
    "<h3>Basic Parameters</h3>"
   ]
  },
  {
   "cell_type": "code",
   "execution_count": 3,
   "metadata": {},
   "outputs": [],
   "source": [
    "# Basic Parameters\n",
    "\n",
    "# 載入 modules\n",
    "\n",
    "import torch\n",
    "import torch.nn as nn\n",
    "\n",
    "# pytorch reproducible\n",
    "torch.manual_seed(1)\n",
    "\n",
    "# 設定基本參數並載入 MNIST Dataset\n",
    "\n",
    "# 基本參數\n",
    "\n",
    "# 訓練回合數\n",
    "EPOCH = 1000\n",
    "# Learning Rate (LR)\n",
    "LR = 0.001\n",
    "# (RGB Channels)\n",
    "CHANNEL = 3\n",
    "# 影像尺寸 IMAGE_SIZE x IMAGE_SIZE\n",
    "IMAGE_SIZE = image_size\n",
    "# 總樣本數\n",
    "N = sample_n\n"
   ]
  },
  {
   "cell_type": "markdown",
   "metadata": {},
   "source": [
    "<hr>\n",
    "<h3>CNN 定義</h3>\n",
    "<pre>\n",
    "<span style=\"color:red\">CNN for 64x64 color images (RGB) (Cat vs. Dogs)</span>\n",
    "<span style=\"color:red\">4 convolutional layers</span>\n",
    "</pre>"
   ]
  },
  {
   "cell_type": "code",
   "execution_count": 4,
   "metadata": {},
   "outputs": [
    {
     "name": "stdout",
     "output_type": "stream",
     "text": [
      "CNN(\n",
      "  (conv1): Sequential(\n",
      "    (0): Conv2d(3, 16, kernel_size=(5, 5), stride=(1, 1), padding=(2, 2))\n",
      "    (1): ReLU()\n",
      "    (2): MaxPool2d(kernel_size=2, stride=2, padding=0, dilation=1, ceil_mode=False)\n",
      "  )\n",
      "  (conv2): Sequential(\n",
      "    (0): Conv2d(16, 32, kernel_size=(5, 5), stride=(1, 1), padding=(2, 2))\n",
      "    (1): ReLU()\n",
      "    (2): MaxPool2d(kernel_size=2, stride=2, padding=0, dilation=1, ceil_mode=False)\n",
      "  )\n",
      "  (conv3): Sequential(\n",
      "    (0): Conv2d(32, 64, kernel_size=(5, 5), stride=(1, 1), padding=(2, 2))\n",
      "    (1): ReLU()\n",
      "    (2): MaxPool2d(kernel_size=2, stride=2, padding=0, dilation=1, ceil_mode=False)\n",
      "  )\n",
      "  (conv4): Sequential(\n",
      "    (0): Conv2d(64, 128, kernel_size=(5, 5), stride=(1, 1), padding=(2, 2))\n",
      "    (1): ReLU()\n",
      "    (2): MaxPool2d(kernel_size=2, stride=2, padding=0, dilation=1, ceil_mode=False)\n",
      "  )\n",
      "  (drop_out): Dropout(p=0.5, inplace=False)\n",
      "  (fc1): Sequential(\n",
      "    (0): Linear(in_features=2048, out_features=256, bias=True)\n",
      "    (1): ReLU()\n",
      "  )\n",
      "  (fc2): Sequential(\n",
      "    (0): Linear(in_features=256, out_features=16, bias=True)\n",
      "    (1): ReLU()\n",
      "  )\n",
      "  (fc3): Sequential(\n",
      "    (0): Linear(in_features=16, out_features=2, bias=True)\n",
      "  )\n",
      ")\n"
     ]
    }
   ],
   "source": [
    "# CNN 定義\n",
    "\n",
    "class CNN(nn.Module):\n",
    "    def __init__(self):\n",
    "        super(CNN, self).__init__()\n",
    "        # Convolutional Layer 1\n",
    "        self.conv1 = nn.Sequential(\n",
    "            # input shape (3, 64, 64),  (IN_CHANNEL=3, IMAGE_SIZE=64, IMAGE_SIZE=64)\n",
    "            nn.Conv2d(in_channels=3, out_channels=16, kernel_size=5, stride=1, padding=2),\n",
    "            # output shape (16, 64, 64), (OUT_CHANNEL=16, IMAGE_SIZE=64, IMAGE_SIZE=64)\n",
    "            # activation\n",
    "            nn.ReLU(),\n",
    "            # size=2x2, output shape (16, 32, 32), (OUT_CHANNEL=16, IMAGE_SIZE/2=32, IMAGE_SIZE/2=32)\n",
    "            nn.MaxPool2d(kernel_size=2)\n",
    "        )\n",
    "        # Convolutional Layer 2\n",
    "        self.conv2 = nn.Sequential(\n",
    "            # input shape (16, 32, 32), (IN_CHANNEL=16, IMAGE_SIZE/2=32, IMAGE_SIZE/2=32)\n",
    "            nn.Conv2d(16, 32, 5, 1, 2),\n",
    "            # output shape (32, 32, 32), (OUT_CHANNEL=32, IMAGE_SIZE/2=32, IMAGE_SIZE/2=32)\n",
    "            # activation\n",
    "            nn.ReLU(),\n",
    "            # size=2x2, output shape (32, 16, 16), (OUT_CHANNEL=32, IMAGE_SIZE/4=16, IMAGE_SIZE/4=16)\n",
    "            nn.MaxPool2d(2)\n",
    "        )\n",
    "        # Convolutional Layer 3\n",
    "        self.conv3 = nn.Sequential(\n",
    "            # input shape (32, 16, 16), (IN_CHANNEL=32, IMAGE_SIZE/4=16, IMAGE_SIZE/4=16)\n",
    "            nn.Conv2d(32, 64, 5, 1, 2),\n",
    "            # output shape (64, 16, 16), (OUT_CHANNEL=64, IMAGE_SIZE/4=16, IMAGE_SIZE/4=16)\n",
    "            # activation\n",
    "            nn.ReLU(),\n",
    "            # size=2x2, output shape (64, 8, 8), (OUT_CHANNEL=64, IMAGE_SIZE/8=8, IMAGE_SIZE/8=8)\n",
    "            nn.MaxPool2d(2)\n",
    "        )\n",
    "        # Convolutional Layer 4\n",
    "        self.conv4 = nn.Sequential(\n",
    "            # input shape (32, 16, 16), (IN_CHANNEL=64, IMAGE_SIZE/8=8, IMAGE_SIZE/8=8)\n",
    "            nn.Conv2d(64, 128, 5, 1, 2),\n",
    "            # output shape (64, 16, 16), (OUT_CHANNEL=128, IMAGE_SIZE/8=8, IMAGE_SIZE/8=8)\n",
    "            # activation\n",
    "            nn.ReLU(),\n",
    "            # size=2x2, output shape (128, 4, 4), (OUT_CHANNEL=128, IMAGE_SIZE/16=4, IMAGE_SIZE/16=4)\n",
    "            nn.MaxPool2d(2)\n",
    "        )\n",
    "        # Dropout，丟掉一些 weights，防止 overfitting\n",
    "        self.drop_out = nn.Dropout()\n",
    "        # Fully connected layer 1, output 1024 classes, (IN=128*4*4=1024, OUT=256)\n",
    "        self.fc1 = nn.Sequential(\n",
    "            nn.Linear(128 * int(IMAGE_SIZE/16) * int(IMAGE_SIZE/16), 256),\n",
    "            nn.ReLU()\n",
    "        )\n",
    "        # Fully connected layer 2, output 16 classes, (IN=256, OUT=16)\n",
    "        self.fc2 = nn.Sequential(\n",
    "            nn.Linear(256, 16),\n",
    "            nn.ReLU()\n",
    "        )\n",
    "        # Fully connected layer 3, output 2 classes, (IN=16, OUT=2)\n",
    "        self.fc3 = nn.Sequential(\n",
    "            nn.Linear(16, 2)\n",
    "        )\n",
    "    def forward(self, x):\n",
    "        net = self.conv1(x)\n",
    "        net = self.conv2(net)\n",
    "        net = self.conv3(net)\n",
    "        net = self.conv4(net)\n",
    "        # CNN reshape, (batch_size, 128 * 4 * 4)\n",
    "        # net = net.view(net.size(0), -1)\n",
    "        net = net.contiguous().view(net.size(0), -1)\n",
    "        net= self.drop_out(net)\n",
    "        net= self.fc1(net)\n",
    "        net= self.fc2(net)\n",
    "        output = self.fc3(net)\n",
    "        return output\n",
    "\n",
    "# CNN 產生\n",
    "cnn = CNN()\n",
    "\n",
    "# net architecture\n",
    "print(cnn)\n"
   ]
  },
  {
   "cell_type": "markdown",
   "metadata": {},
   "source": [
    "<hr>\n",
    "<h3>改變影像資料的維度排列方式，配合 CNN 所需的維度</h3>"
   ]
  },
  {
   "cell_type": "code",
   "execution_count": 5,
   "metadata": {},
   "outputs": [
    {
     "name": "stdout",
     "output_type": "stream",
     "text": [
      "(20, 64, 64, 3)\n",
      "(20, 64, 64, 3)\n",
      "(20, 3, 64, 64)\n"
     ]
    }
   ],
   "source": [
    "# 改變影像資料的維度排列方式，配合 CNN 所需的維度\n",
    "\n",
    "# 原始影像集：個數 x 影像高度 x 影像寬度 x 色頻數\n",
    "print(images.shape)\n",
    "\n",
    "# 新影像集\n",
    "images_for_cnn = images.copy()\n",
    "\n",
    "print(images_for_cnn.shape)\n",
    "\n",
    "# 維度轉換\n",
    "# 維度二與維度三互換\n",
    "images_for_cnn = np.swapaxes(images_for_cnn, 2, 3)\n",
    "# 維度一與維度二互換\n",
    "images_for_cnn = np.swapaxes(images_for_cnn, 1, 2)\n",
    "\n",
    "# 新影像集：個數 x 色頻數 x 影像高度 x 影像寬度\n",
    "print(images_for_cnn.shape)\n"
   ]
  },
  {
   "cell_type": "markdown",
   "metadata": {},
   "source": [
    "<hr>\n",
    "<h3>影像集 ndarray 格式轉換為 Tensor 格式</h3>"
   ]
  },
  {
   "cell_type": "code",
   "execution_count": 6,
   "metadata": {},
   "outputs": [],
   "source": [
    "# 影像集 ndarray 格式轉換為 Tensor 格式\n",
    "\n",
    "x = torch.from_numpy(images_for_cnn).float()\n",
    "y = torch.from_numpy(labels).float()\n"
   ]
  },
  {
   "cell_type": "code",
   "execution_count": 7,
   "metadata": {},
   "outputs": [
    {
     "name": "stdout",
     "output_type": "stream",
     "text": [
      "torch.Size([20, 3, 64, 64])\n",
      "torch.Size([20, 2])\n",
      "tensor([[[ 25.,  21.,  24.,  ..., 123., 120., 121.],\n",
      "         [ 23.,  27.,  24.,  ..., 116., 114., 113.],\n",
      "         [ 20.,  22.,  22.,  ..., 111., 105., 107.],\n",
      "         ...,\n",
      "         [ 89.,  87.,  92.,  ...,   6.,   1.,   3.],\n",
      "         [ 90.,  92.,  89.,  ...,   3.,   3.,   3.],\n",
      "         [ 86.,  83.,  83.,  ...,   6.,   0.,   2.]],\n",
      "\n",
      "        [[ 31.,  28.,  29.,  ..., 152., 149., 151.],\n",
      "         [ 30.,  30.,  32.,  ..., 149., 144., 140.],\n",
      "         [ 30.,  29.,  29.,  ..., 141., 134., 133.],\n",
      "         ...,\n",
      "         [116., 119., 122.,  ...,  14.,   9.,   5.],\n",
      "         [117., 119., 120.,  ...,  17.,  10.,   8.],\n",
      "         [113., 114., 114.,  ...,  11.,   2.,   4.]],\n",
      "\n",
      "        [[ 20.,  14.,  17.,  ..., 149., 146., 146.],\n",
      "         [ 15.,  15.,  19.,  ..., 145., 141., 136.],\n",
      "         [ 14.,  15.,  16.,  ..., 136., 131., 127.],\n",
      "         ...,\n",
      "         [111., 112., 117.,  ...,  31.,  26.,  16.],\n",
      "         [107., 108., 113.,  ...,  35.,  25.,  22.],\n",
      "         [109., 105., 103.,  ...,  22.,  16.,  14.]]])\n",
      "tensor([1., 0.])\n"
     ]
    }
   ],
   "source": [
    "print(x.shape)\n",
    "print(y.shape)\n",
    "print(x[0])\n",
    "print(y[0])"
   ]
  },
  {
   "cell_type": "markdown",
   "metadata": {},
   "source": [
    "<hr>\n",
    "<h3>Move to GPU if CUDA Available</h3>"
   ]
  },
  {
   "cell_type": "code",
   "execution_count": 8,
   "metadata": {},
   "outputs": [
    {
     "name": "stdout",
     "output_type": "stream",
     "text": [
      "cpu\n"
     ]
    }
   ],
   "source": [
    "# Move to GPU if CUDA Available\n",
    "\n",
    "device = torch.device(\"cuda:0\" if torch.cuda.is_available() else \"cpu\")\n",
    "print(device)\n",
    "\n",
    "cnn.to(device)\n",
    "\n",
    "x, y = x.to(device), y.to(device)\n"
   ]
  },
  {
   "cell_type": "markdown",
   "metadata": {},
   "source": [
    "<hr>\n",
    "<h3>CNN Model Training</h3>"
   ]
  },
  {
   "cell_type": "code",
   "execution_count": 9,
   "metadata": {},
   "outputs": [
    {
     "name": "stdout",
     "output_type": "stream",
     "text": [
      "    0,     2.624842643738\n",
      "   10,     0.503200721741\n",
      "   20,     0.504134988785\n",
      "   30,     0.503284549713\n",
      "   40,     0.315707349777\n",
      "   50,     0.241398859024\n",
      "   60,     0.076080358028\n",
      "   70,     0.055956864357\n",
      "   80,     0.023809155822\n",
      "   90,     0.024634346366\n",
      "  100,     0.017856195569\n",
      "  110,     0.014034721255\n",
      "  120,     0.013948349655\n",
      "  130,     0.006369228661\n",
      "  140,     0.007834349573\n",
      "  150,     0.008325707167\n",
      "  160,     0.006453289837\n",
      "  170,     0.006038298458\n",
      "  180,     0.005132657662\n",
      "  190,     0.007028925419\n",
      "  200,     0.005754394829\n",
      "  210,     0.004183486477\n",
      "  220,     0.005586883426\n",
      "  230,     0.005070885271\n",
      "  240,     0.004294383898\n",
      "  250,     0.003390232101\n",
      "  260,     0.002834146097\n",
      "  270,     0.007123984396\n",
      "  280,     0.005305147916\n",
      "  290,     0.006417617947\n",
      "  300,     0.005817922205\n",
      "  310,     0.006844614446\n",
      "  320,     0.005686497688\n",
      "  330,     0.004706688598\n",
      "  340,     0.002913056314\n",
      "  350,     0.004784955457\n",
      "  360,     0.003087066486\n",
      "  370,     0.005389612168\n",
      "  380,     0.001702448167\n",
      "  390,     0.005151799321\n",
      "  400,     0.005730833486\n",
      "  410,     0.005950228125\n",
      "  420,     0.002588622831\n",
      "  430,     0.006237950921\n",
      "  440,     0.002888208441\n",
      "  450,     0.002848997526\n",
      "  460,     0.004194432870\n",
      "  470,     0.004647203535\n",
      "  480,     0.003260277212\n",
      "  490,     0.003827080131\n",
      "  500,     0.002547995932\n",
      "  510,     0.004917873442\n",
      "  520,     0.002050861157\n",
      "  530,     0.002901230380\n",
      "  540,     0.005405719206\n",
      "  550,     0.003092708997\n",
      "  560,     0.001604929753\n",
      "  570,     0.005197200179\n",
      "  580,     0.005096625909\n",
      "  590,     0.004949972779\n",
      "  600,     0.002362898365\n",
      "  610,     0.003069002554\n",
      "  620,     0.002182518877\n",
      "  630,     0.005680526793\n",
      "  640,     0.003699304909\n",
      "  650,     0.004945285618\n",
      "  660,     0.003187987208\n",
      "  670,     0.004397122189\n",
      "  680,     0.002799906954\n",
      "  690,     0.002056147717\n",
      "  700,     0.004203633592\n",
      "  710,     0.001869030111\n",
      "  720,     0.002419188060\n",
      "  730,     0.002702540904\n",
      "  740,     0.004028248042\n",
      "  750,     0.001889511757\n",
      "  760,     0.001776102930\n",
      "  770,     0.003613496572\n",
      "  780,     0.004229531810\n",
      "  790,     0.002414100245\n",
      "  800,     0.001469171327\n",
      "  810,     0.001595633291\n",
      "  820,     0.002702623606\n",
      "  830,     0.003249091282\n",
      "  840,     0.002188920043\n",
      "  850,     0.002884510905\n",
      "  860,     0.002033742145\n",
      "  870,     0.003093955666\n",
      "  880,     0.003588156402\n",
      "  890,     0.002258894593\n",
      "  900,     0.003383124247\n",
      "  910,     0.002843500674\n",
      "  920,     0.004074393213\n",
      "  930,     0.002304671891\n",
      "  940,     0.003557918593\n",
      "  950,     0.001731581427\n",
      "  960,     0.002401820198\n",
      "  970,     0.001777265966\n",
      "  980,     0.004048516601\n",
      "  990,     0.002391623147\n",
      " 1000,     0.003885973990\n"
     ]
    }
   ],
   "source": [
    "# CNN model training\n",
    "\n",
    "# cnn training\n",
    "def cnn_training(cnn, test_x, test_y):\n",
    "    # loss function changed to be MSE (from Cross Entropy)\n",
    "    loss_func = torch.nn.MSELoss(reduction='sum')\n",
    "    # optimize all cnn parameters\n",
    "    optimizer = torch.optim.Adam(cnn.parameters(), lr=LR)\n",
    "    # Training iteratively\n",
    "    for epoch in range(EPOCH+1):\n",
    "        # shuffle\n",
    "        indices = torch.randperm(x.size()[0])\n",
    "        new_x, new_y = x[indices], y[indices]\n",
    "        # cnn output\n",
    "        output = cnn(new_x)\n",
    "        # cross entropy loss\n",
    "        loss = loss_func(output, new_y)\n",
    "        # display err\n",
    "        if (epoch % 10 == 0):\n",
    "            err = loss.item() / sample_n\n",
    "            print('%5d, %18.12f' % (epoch, err))\n",
    "        # clear gradients for this training step\n",
    "        optimizer.zero_grad()\n",
    "        # backpropagation, compute gradients\n",
    "        loss.backward()\n",
    "        # apply gradients\n",
    "        optimizer.step()\n",
    "    return cnn\n",
    "\n",
    "cnn = cnn_training(cnn, x, y)\n",
    "\n",
    "# Save torch model\n",
    "torch.save(cnn.state_dict(), 'cnn_cat_dog.model')\n"
   ]
  },
  {
   "cell_type": "markdown",
   "metadata": {},
   "source": [
    "<hr>\n",
    "<h3>Load CNN Model of CD samples</h3>"
   ]
  },
  {
   "cell_type": "code",
   "execution_count": 10,
   "metadata": {},
   "outputs": [
    {
     "name": "stdout",
     "output_type": "stream",
     "text": [
      "Load previous cnn model completely!\n"
     ]
    }
   ],
   "source": [
    "# Load CNN Model of CD samples\n",
    "\n",
    "def load_cnn_model():\n",
    "    # Load torch model\n",
    "    cnn.load_state_dict(torch.load('cnn_cat_dog.model', map_location='cpu'))\n",
    "    cnn.eval()\n",
    "    print('Load previous cnn model completely!')\n",
    "    return\n",
    "    \n",
    "load_cnn_model()\n"
   ]
  },
  {
   "cell_type": "markdown",
   "metadata": {},
   "source": [
    "<hr>\n",
    "<h3>Test Unknown Samples</h3>"
   ]
  },
  {
   "cell_type": "code",
   "execution_count": 11,
   "metadata": {},
   "outputs": [
    {
     "name": "stdout",
     "output_type": "stream",
     "text": [
      "[['images/u\\\\0.jpg', 'Cat'], ['images/u\\\\00.jpg', 'Cat'], ['images/u\\\\1.jpg', 'Dog'], ['images/u\\\\11.jpg', 'Dog']]\n"
     ]
    }
   ],
   "source": [
    "# Test Unknown Samples\n",
    "\n",
    "def cnn_testing():\n",
    "    ilst = glob.glob('images/u/*.*')\n",
    "    n = len(ilst)\n",
    "    res = []\n",
    "    for f in ilst:\n",
    "        # print(f)\n",
    "        img = cv2.imread(f)\n",
    "        img = cv2.resize(img,(image_size,image_size))\n",
    "        img = np.swapaxes(img, 1, 2)\n",
    "        img = np.swapaxes(img, 0, 1)\n",
    "        x = torch.zeros(1, 3, image_size, image_size)\n",
    "        x = x.to(device)\n",
    "        x[0] = torch.from_numpy(img).float()\n",
    "        dic = { 'Cat':0, 'Dog':0 }\n",
    "        for i in range(5):\n",
    "            output = cnn(x)\n",
    "            olst = output.tolist()\n",
    "            for o in olst:\n",
    "                if (o[0] >= o[1]):\n",
    "                    k = 'Cat'\n",
    "                else:\n",
    "                    k = 'Dog'\n",
    "                dic[k] = dic[k] + 1\n",
    "                # print(olst, k)\n",
    "        if (dic['Cat'] >= dic['Dog']):\n",
    "            res.append([f, 'Cat'])\n",
    "        else:\n",
    "            res.append([f, 'Dog'])\n",
    "    return res\n",
    "\n",
    "if __name__ == '__main__':\n",
    "    res = cnn_testing()\n",
    "    print(res)\n"
   ]
  },
  {
   "cell_type": "code",
   "execution_count": null,
   "metadata": {},
   "outputs": [],
   "source": []
  }
 ],
 "metadata": {
  "kernelspec": {
   "display_name": "venv",
   "language": "python",
   "name": "python3"
  },
  "language_info": {
   "codemirror_mode": {
    "name": "ipython",
    "version": 3
   },
   "file_extension": ".py",
   "mimetype": "text/x-python",
   "name": "python",
   "nbconvert_exporter": "python",
   "pygments_lexer": "ipython3",
   "version": "3.11.9"
  }
 },
 "nbformat": 4,
 "nbformat_minor": 2
}
